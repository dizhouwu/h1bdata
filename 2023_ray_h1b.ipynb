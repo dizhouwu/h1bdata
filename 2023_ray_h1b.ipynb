{
  "nbformat": 4,
  "nbformat_minor": 0,
  "metadata": {
    "colab": {
      "provenance": []
    },
    "kernelspec": {
      "name": "python3",
      "display_name": "Python 3"
    },
    "language_info": {
      "name": "python"
    }
  },
  "cells": [
    {
      "cell_type": "code",
      "execution_count": 2,
      "metadata": {
        "colab": {
          "base_uri": "https://localhost:8080/"
        },
        "id": "tLzi9V4U822f",
        "outputId": "3d03c345-8651-4fd7-a885-339c852fb10b"
      },
      "outputs": [
        {
          "output_type": "stream",
          "name": "stdout",
          "text": [
            "Looking in indexes: https://pypi.org/simple, https://us-python.pkg.dev/colab-wheels/public/simple/\n",
            "Requirement already satisfied: ray in /usr/local/lib/python3.10/dist-packages (2.4.0)\n",
            "Requirement already satisfied: attrs in /usr/local/lib/python3.10/dist-packages (from ray) (23.1.0)\n",
            "Requirement already satisfied: click>=7.0 in /usr/local/lib/python3.10/dist-packages (from ray) (8.1.3)\n",
            "Requirement already satisfied: filelock in /usr/local/lib/python3.10/dist-packages (from ray) (3.12.0)\n",
            "Requirement already satisfied: jsonschema in /usr/local/lib/python3.10/dist-packages (from ray) (4.3.3)\n",
            "Requirement already satisfied: msgpack<2.0.0,>=1.0.0 in /usr/local/lib/python3.10/dist-packages (from ray) (1.0.5)\n",
            "Requirement already satisfied: protobuf!=3.19.5,>=3.15.3 in /usr/local/lib/python3.10/dist-packages (from ray) (3.20.3)\n",
            "Requirement already satisfied: pyyaml in /usr/local/lib/python3.10/dist-packages (from ray) (6.0)\n",
            "Requirement already satisfied: aiosignal in /usr/local/lib/python3.10/dist-packages (from ray) (1.3.1)\n",
            "Requirement already satisfied: frozenlist in /usr/local/lib/python3.10/dist-packages (from ray) (1.3.3)\n",
            "Requirement already satisfied: requests in /usr/local/lib/python3.10/dist-packages (from ray) (2.27.1)\n",
            "Requirement already satisfied: virtualenv<20.21.1,>=20.0.24 in /usr/local/lib/python3.10/dist-packages (from ray) (20.21.0)\n",
            "Requirement already satisfied: packaging in /usr/local/lib/python3.10/dist-packages (from ray) (23.1)\n",
            "Requirement already satisfied: grpcio<=1.51.3,>=1.42.0 in /usr/local/lib/python3.10/dist-packages (from ray) (1.51.3)\n",
            "Requirement already satisfied: numpy>=1.19.3 in /usr/local/lib/python3.10/dist-packages (from ray) (1.22.4)\n",
            "Requirement already satisfied: distlib<1,>=0.3.6 in /usr/local/lib/python3.10/dist-packages (from virtualenv<20.21.1,>=20.0.24->ray) (0.3.6)\n",
            "Requirement already satisfied: platformdirs<4,>=2.4 in /usr/local/lib/python3.10/dist-packages (from virtualenv<20.21.1,>=20.0.24->ray) (3.3.0)\n",
            "Requirement already satisfied: pyrsistent!=0.17.0,!=0.17.1,!=0.17.2,>=0.14.0 in /usr/local/lib/python3.10/dist-packages (from jsonschema->ray) (0.19.3)\n",
            "Requirement already satisfied: urllib3<1.27,>=1.21.1 in /usr/local/lib/python3.10/dist-packages (from requests->ray) (1.26.15)\n",
            "Requirement already satisfied: certifi>=2017.4.17 in /usr/local/lib/python3.10/dist-packages (from requests->ray) (2022.12.7)\n",
            "Requirement already satisfied: charset-normalizer~=2.0.0 in /usr/local/lib/python3.10/dist-packages (from requests->ray) (2.0.12)\n",
            "Requirement already satisfied: idna<4,>=2.5 in /usr/local/lib/python3.10/dist-packages (from requests->ray) (3.4)\n"
          ]
        }
      ],
      "source": [
        "!pip install ray"
      ]
    },
    {
      "cell_type": "code",
      "source": [
        "!pip install modin"
      ],
      "metadata": {
        "id": "AVcag1VKMDxL",
        "colab": {
          "base_uri": "https://localhost:8080/"
        },
        "outputId": "23de84d3-a6f0-4e04-c14a-279f9eb0696f"
      },
      "execution_count": 5,
      "outputs": [
        {
          "output_type": "stream",
          "name": "stdout",
          "text": [
            "Looking in indexes: https://pypi.org/simple, https://us-python.pkg.dev/colab-wheels/public/simple/\n",
            "Collecting modin\n",
            "  Downloading modin-0.22.0-py3-none-any.whl (1.1 MB)\n",
            "\u001b[2K     \u001b[90m━━━━━━━━━━━━━━━━━━━━━━━━━━━━━━━━━━━━━━━━\u001b[0m \u001b[32m1.1/1.1 MB\u001b[0m \u001b[31m29.8 MB/s\u001b[0m eta \u001b[36m0:00:00\u001b[0m\n",
            "\u001b[?25hRequirement already satisfied: pandas==1.5.3 in /usr/local/lib/python3.10/dist-packages (from modin) (1.5.3)\n",
            "Requirement already satisfied: packaging in /usr/local/lib/python3.10/dist-packages (from modin) (23.1)\n",
            "Requirement already satisfied: numpy>=1.18.5 in /usr/local/lib/python3.10/dist-packages (from modin) (1.22.4)\n",
            "Requirement already satisfied: fsspec in /usr/local/lib/python3.10/dist-packages (from modin) (2023.4.0)\n",
            "Requirement already satisfied: psutil in /usr/local/lib/python3.10/dist-packages (from modin) (5.9.5)\n",
            "Requirement already satisfied: python-dateutil>=2.8.1 in /usr/local/lib/python3.10/dist-packages (from pandas==1.5.3->modin) (2.8.2)\n",
            "Requirement already satisfied: pytz>=2020.1 in /usr/local/lib/python3.10/dist-packages (from pandas==1.5.3->modin) (2022.7.1)\n",
            "Requirement already satisfied: six>=1.5 in /usr/local/lib/python3.10/dist-packages (from python-dateutil>=2.8.1->pandas==1.5.3->modin) (1.16.0)\n",
            "Installing collected packages: modin\n",
            "Successfully installed modin-0.22.0\n"
          ]
        }
      ]
    },
    {
      "cell_type": "code",
      "source": [
        "import ssl\n",
        "from functools import reduce\n",
        "import ray\n",
        "import nest_asyncio\n",
        "import modin.pandas as pd\n",
        "import requests\n",
        "from bs4 import BeautifulSoup\n",
        "ssl._create_default_https_context = ssl._create_unverified_context\n",
        "url = \"https://h1bdata.info/index.php?em=&job=quantitative+&city=&year=2023\"\n",
        "BASELINE = 175000"
      ],
      "metadata": {
        "id": "C3Qw8tKHMGHK"
      },
      "execution_count": 8,
      "outputs": []
    },
    {
      "cell_type": "code",
      "source": [
        "@ray.remote\n",
        "def _get_df(title):\n",
        "    response = requests.get(url)\n",
        "    soup = BeautifulSoup(response.text, 'html.parser')\n",
        "    table = soup.find('table')\n",
        "    records = []\n",
        "    for tr in table.findAll(\"tr\"):\n",
        "        trs = tr.findAll(\"td\")\n",
        "        record = []\n",
        "        for each in trs:\n",
        "            try:\n",
        "                link = each.find('a')['href']\n",
        "                text = each.text\n",
        "                record.append(link)\n",
        "                record.append(text)\n",
        "            except:\n",
        "                text = each.text\n",
        "                record.append(text)\n",
        "        records.append(record)\n",
        "\n",
        "    df = pd.DataFrame(data=records)\n",
        "    df = df.iloc[1:, :].loc[:, [1,3,4,5,7,8,9]]\n",
        "    df.columns = [\"FIRM\", \"TITLE\", \"HREF\", \"RAW_BASE\", \"LOCATION\", \"SUBMIT_DATE\", \"START_DATE\"]\n",
        "    def _get_lca_wage(x):\n",
        "        import time\n",
        "        if x[\"HREF\"] is None:\n",
        "            return 0\n",
        "        url = f\"https://h1bdata.info/{x['HREF']}\"\n",
        "        for i in range(3):\n",
        "            try:\n",
        "                accurate_df = pd.read_html(url)[0]\n",
        "            except:\n",
        "                time.sleep(i)\n",
        "        dic = accurate_df.to_dict(orient='records')\n",
        "        new_dict = {}\n",
        "        cand1, cand2 = None, None\n",
        "        for sub_dict in dic:\n",
        "            new_dict[sub_dict[0]] = sub_dict[1]\n",
        "        if \"LCA CASE WAGE RATE FROM\" in new_dict:\n",
        "            cand1 = new_dict[\"LCA CASE WAGE RATE FROM\"]\n",
        "        if \"LCA CASE WAGE RATE TO\" in new_dict:\n",
        "            cand2 = new_dict[\"LCA CASE WAGE RATE TO\"]\n",
        "        if cand1 is None:\n",
        "            return cand2\n",
        "        if cand2 is None:\n",
        "            return cand1\n",
        "        return max(cand1, cand2)\n",
        "    df[\"HREF_BASE\"] = df.apply(lambda x: _get_lca_wage(x), axis=1)\n",
        "    df[\"BASE\"] = df[['HREF_BASE', 'RAW_BASE']].max(axis=1)\n",
        "    return df"
      ],
      "metadata": {
        "id": "rHCLvawHApTQ"
      },
      "execution_count": 17,
      "outputs": []
    },
    {
      "cell_type": "code",
      "source": [
        "refs = []\n",
        "titles = ['quantitative+', 'senior+quantitative+', 'quant+']\n",
        "for title in titles:\n",
        "    refs.append(_get_df.remote(title))"
      ],
      "metadata": {
        "id": "AqLAxZnrA_Hg"
      },
      "execution_count": 18,
      "outputs": []
    },
    {
      "cell_type": "code",
      "source": [
        "res = ray.get(refs)"
      ],
      "metadata": {
        "colab": {
          "base_uri": "https://localhost:8080/"
        },
        "id": "KG2Kr5Fpeexc",
        "outputId": "ea266832-8572-4b41-8415-a27e2ceb86ee"
      },
      "execution_count": 19,
      "outputs": [
        {
          "output_type": "stream",
          "name": "stderr",
          "text": [
            "\u001b[2m\u001b[36m(_get_df pid=19103)\u001b[0m UserWarning: Distributing <class 'list'> object. This may take some time.\n",
            "\u001b[2m\u001b[36m(_deploy_ray_func pid=19316)\u001b[0m UserWarning: Distributing <class 'list'> object. This may take some time.\n",
            "\u001b[2m\u001b[36m(_deploy_ray_func pid=19316)\u001b[0m UserWarning: `read_html` is not currently supported by PandasOnRay, defaulting to pandas implementation.\n",
            "\u001b[2m\u001b[36m(_deploy_ray_func pid=19221)\u001b[0m Please refer to https://modin.readthedocs.io/en/stable/supported_apis/defaulting_to_pandas.html for explanation.\n",
            "\u001b[2m\u001b[36m(_get_df pid=19104)\u001b[0m UserWarning: Distributing <class 'list'> object. This may take some time.\u001b[32m [repeated 2x across cluster]\u001b[0m\n",
            "\u001b[2m\u001b[36m(_deploy_ray_func pid=19316)\u001b[0m UserWarning: `read_html` is not currently supported by PandasOnRay, defaulting to pandas implementation.\u001b[32m [repeated 10x across cluster]\u001b[0m\n",
            "\u001b[2m\u001b[36m(_deploy_ray_func pid=19316)\u001b[0m UserWarning: `read_html` is not currently supported by PandasOnRay, defaulting to pandas implementation.\u001b[32m [repeated 11x across cluster]\u001b[0m\n",
            "\u001b[2m\u001b[36m(_deploy_ray_func pid=19316)\u001b[0m UserWarning: `read_html` is not currently supported by PandasOnRay, defaulting to pandas implementation.\u001b[32m [repeated 12x across cluster]\u001b[0m\n",
            "\u001b[2m\u001b[36m(_deploy_ray_func pid=19316)\u001b[0m UserWarning: `read_html` is not currently supported by PandasOnRay, defaulting to pandas implementation.\u001b[32m [repeated 10x across cluster]\u001b[0m\n",
            "\u001b[2m\u001b[36m(_deploy_ray_func pid=19221)\u001b[0m UserWarning: `read_html` is not currently supported by PandasOnRay, defaulting to pandas implementation.\u001b[32m [repeated 11x across cluster]\u001b[0m\n",
            "\u001b[2m\u001b[36m(_deploy_ray_func pid=19221)\u001b[0m UserWarning: `read_html` is not currently supported by PandasOnRay, defaulting to pandas implementation.\u001b[32m [repeated 12x across cluster]\u001b[0m\n",
            "\u001b[2m\u001b[36m(_deploy_ray_func pid=19221)\u001b[0m UserWarning: `read_html` is not currently supported by PandasOnRay, defaulting to pandas implementation.\u001b[32m [repeated 12x across cluster]\u001b[0m\n",
            "\u001b[2m\u001b[36m(_deploy_ray_func pid=19221)\u001b[0m UserWarning: `read_html` is not currently supported by PandasOnRay, defaulting to pandas implementation.\u001b[32m [repeated 11x across cluster]\u001b[0m\n",
            "\u001b[2m\u001b[36m(_deploy_ray_func pid=19316)\u001b[0m UserWarning: `read_html` is not currently supported by PandasOnRay, defaulting to pandas implementation.\u001b[32m [repeated 9x across cluster]\u001b[0m\n",
            "\u001b[2m\u001b[36m(_deploy_ray_func pid=19221)\u001b[0m UserWarning: `read_html` is not currently supported by PandasOnRay, defaulting to pandas implementation.\u001b[32m [repeated 12x across cluster]\u001b[0m\n",
            "\u001b[2m\u001b[36m(_deploy_ray_func pid=19221)\u001b[0m UserWarning: `read_html` is not currently supported by PandasOnRay, defaulting to pandas implementation.\u001b[32m [repeated 12x across cluster]\u001b[0m\n",
            "\u001b[2m\u001b[36m(_deploy_ray_func pid=19316)\u001b[0m UserWarning: `read_html` is not currently supported by PandasOnRay, defaulting to pandas implementation.\u001b[32m [repeated 11x across cluster]\u001b[0m\n",
            "\u001b[2m\u001b[36m(_deploy_ray_func pid=19316)\u001b[0m UserWarning: `read_html` is not currently supported by PandasOnRay, defaulting to pandas implementation.\u001b[32m [repeated 11x across cluster]\u001b[0m\n",
            "\u001b[2m\u001b[36m(_deploy_ray_func pid=19221)\u001b[0m UserWarning: `read_html` is not currently supported by PandasOnRay, defaulting to pandas implementation.\u001b[32m [repeated 10x across cluster]\u001b[0m\n",
            "\u001b[2m\u001b[36m(_deploy_ray_func pid=19316)\u001b[0m UserWarning: `read_html` is not currently supported by PandasOnRay, defaulting to pandas implementation.\u001b[32m [repeated 11x across cluster]\u001b[0m\n",
            "\u001b[2m\u001b[36m(_deploy_ray_func pid=19221)\u001b[0m UserWarning: `read_html` is not currently supported by PandasOnRay, defaulting to pandas implementation.\u001b[32m [repeated 12x across cluster]\u001b[0m\n",
            "\u001b[2m\u001b[36m(_deploy_ray_func pid=19221)\u001b[0m UserWarning: `read_html` is not currently supported by PandasOnRay, defaulting to pandas implementation.\u001b[32m [repeated 10x across cluster]\u001b[0m\n",
            "\u001b[2m\u001b[36m(_deploy_ray_func pid=19316)\u001b[0m UserWarning: `read_html` is not currently supported by PandasOnRay, defaulting to pandas implementation.\u001b[32m [repeated 12x across cluster]\u001b[0m\n",
            "\u001b[2m\u001b[36m(_deploy_ray_func pid=19316)\u001b[0m UserWarning: `read_html` is not currently supported by PandasOnRay, defaulting to pandas implementation.\u001b[32m [repeated 12x across cluster]\u001b[0m\n",
            "\u001b[2m\u001b[36m(_deploy_ray_func pid=19221)\u001b[0m UserWarning: `read_html` is not currently supported by PandasOnRay, defaulting to pandas implementation.\u001b[32m [repeated 10x across cluster]\u001b[0m\n",
            "\u001b[2m\u001b[36m(_deploy_ray_func pid=19221)\u001b[0m UserWarning: `read_html` is not currently supported by PandasOnRay, defaulting to pandas implementation.\u001b[32m [repeated 11x across cluster]\u001b[0m\n",
            "\u001b[2m\u001b[36m(_deploy_ray_func pid=19221)\u001b[0m UserWarning: `read_html` is not currently supported by PandasOnRay, defaulting to pandas implementation.\u001b[32m [repeated 10x across cluster]\u001b[0m\n",
            "\u001b[2m\u001b[36m(_deploy_ray_func pid=19316)\u001b[0m UserWarning: `read_html` is not currently supported by PandasOnRay, defaulting to pandas implementation.\u001b[32m [repeated 10x across cluster]\u001b[0m\n",
            "\u001b[2m\u001b[36m(_deploy_ray_func pid=19316)\u001b[0m UserWarning: `read_html` is not currently supported by PandasOnRay, defaulting to pandas implementation.\u001b[32m [repeated 12x across cluster]\u001b[0m\n",
            "\u001b[2m\u001b[36m(_deploy_ray_func pid=19316)\u001b[0m UserWarning: `read_html` is not currently supported by PandasOnRay, defaulting to pandas implementation.\u001b[32m [repeated 12x across cluster]\u001b[0m\n",
            "\u001b[2m\u001b[36m(_deploy_ray_func pid=19221)\u001b[0m UserWarning: `read_html` is not currently supported by PandasOnRay, defaulting to pandas implementation.\u001b[32m [repeated 11x across cluster]\u001b[0m\n",
            "\u001b[2m\u001b[36m(_deploy_ray_func pid=19221)\u001b[0m UserWarning: `read_html` is not currently supported by PandasOnRay, defaulting to pandas implementation.\u001b[32m [repeated 12x across cluster]\u001b[0m\n",
            "\u001b[2m\u001b[36m(_deploy_ray_func pid=19316)\u001b[0m UserWarning: `read_html` is not currently supported by PandasOnRay, defaulting to pandas implementation.\u001b[32m [repeated 10x across cluster]\u001b[0m\n",
            "\u001b[2m\u001b[36m(_deploy_ray_func pid=19316)\u001b[0m UserWarning: `read_html` is not currently supported by PandasOnRay, defaulting to pandas implementation.\u001b[32m [repeated 9x across cluster]\u001b[0m\n",
            "\u001b[2m\u001b[36m(_deploy_ray_func pid=19316)\u001b[0m UserWarning: `read_html` is not currently supported by PandasOnRay, defaulting to pandas implementation.\u001b[32m [repeated 8x across cluster]\u001b[0m\n",
            "\u001b[2m\u001b[36m(_deploy_ray_func pid=19316)\u001b[0m UserWarning: `read_html` is not currently supported by PandasOnRay, defaulting to pandas implementation.\u001b[32m [repeated 12x across cluster]\u001b[0m\n",
            "\u001b[2m\u001b[36m(_deploy_ray_func pid=19316)\u001b[0m UserWarning: `read_html` is not currently supported by PandasOnRay, defaulting to pandas implementation.\u001b[32m [repeated 12x across cluster]\u001b[0m\n",
            "\u001b[2m\u001b[36m(_deploy_ray_func pid=19316)\u001b[0m UserWarning: `read_html` is not currently supported by PandasOnRay, defaulting to pandas implementation.\u001b[32m [repeated 12x across cluster]\u001b[0m\n",
            "\u001b[2m\u001b[36m(_deploy_ray_func pid=19316)\u001b[0m UserWarning: `read_html` is not currently supported by PandasOnRay, defaulting to pandas implementation.\u001b[32m [repeated 12x across cluster]\u001b[0m\n",
            "\u001b[2m\u001b[36m(_deploy_ray_func pid=19316)\u001b[0m UserWarning: `read_html` is not currently supported by PandasOnRay, defaulting to pandas implementation.\u001b[32m [repeated 12x across cluster]\u001b[0m\n",
            "\u001b[2m\u001b[36m(_deploy_ray_func pid=19316)\u001b[0m UserWarning: `read_html` is not currently supported by PandasOnRay, defaulting to pandas implementation.\u001b[32m [repeated 12x across cluster]\u001b[0m\n",
            "\u001b[2m\u001b[36m(_deploy_ray_func pid=19221)\u001b[0m UserWarning: `read_html` is not currently supported by PandasOnRay, defaulting to pandas implementation.\u001b[32m [repeated 11x across cluster]\u001b[0m\n",
            "\u001b[2m\u001b[36m(_deploy_ray_func pid=19316)\u001b[0m UserWarning: `read_html` is not currently supported by PandasOnRay, defaulting to pandas implementation.\u001b[32m [repeated 12x across cluster]\u001b[0m\n",
            "\u001b[2m\u001b[36m(_deploy_ray_func pid=19316)\u001b[0m UserWarning: `read_html` is not currently supported by PandasOnRay, defaulting to pandas implementation.\u001b[32m [repeated 11x across cluster]\u001b[0m\n",
            "\u001b[2m\u001b[36m(_deploy_ray_func pid=19316)\u001b[0m UserWarning: `read_html` is not currently supported by PandasOnRay, defaulting to pandas implementation.\u001b[32m [repeated 12x across cluster]\u001b[0m\n",
            "\u001b[2m\u001b[36m(_deploy_ray_func pid=19221)\u001b[0m UserWarning: `read_html` is not currently supported by PandasOnRay, defaulting to pandas implementation.\u001b[32m [repeated 11x across cluster]\u001b[0m\n",
            "\u001b[2m\u001b[36m(_deploy_ray_func pid=19316)\u001b[0m UserWarning: `read_html` is not currently supported by PandasOnRay, defaulting to pandas implementation.\u001b[32m [repeated 11x across cluster]\u001b[0m\n",
            "\u001b[2m\u001b[36m(_deploy_ray_func pid=19316)\u001b[0m UserWarning: `read_html` is not currently supported by PandasOnRay, defaulting to pandas implementation.\u001b[32m [repeated 12x across cluster]\u001b[0m\n",
            "\u001b[2m\u001b[36m(_deploy_ray_func pid=19316)\u001b[0m UserWarning: `read_html` is not currently supported by PandasOnRay, defaulting to pandas implementation.\u001b[32m [repeated 12x across cluster]\u001b[0m\n",
            "\u001b[2m\u001b[36m(_deploy_ray_func pid=19316)\u001b[0m UserWarning: `read_html` is not currently supported by PandasOnRay, defaulting to pandas implementation.\u001b[32m [repeated 12x across cluster]\u001b[0m\n",
            "\u001b[2m\u001b[36m(_deploy_ray_func pid=19316)\u001b[0m UserWarning: `read_html` is not currently supported by PandasOnRay, defaulting to pandas implementation.\u001b[32m [repeated 12x across cluster]\u001b[0m\n",
            "\u001b[2m\u001b[36m(_deploy_ray_func pid=19221)\u001b[0m UserWarning: `read_html` is not currently supported by PandasOnRay, defaulting to pandas implementation.\u001b[32m [repeated 11x across cluster]\u001b[0m\n",
            "\u001b[2m\u001b[36m(_deploy_ray_func pid=19221)\u001b[0m UserWarning: `read_html` is not currently supported by PandasOnRay, defaulting to pandas implementation.\u001b[32m [repeated 12x across cluster]\u001b[0m\n",
            "\u001b[2m\u001b[36m(_deploy_ray_func pid=19221)\u001b[0m UserWarning: `read_html` is not currently supported by PandasOnRay, defaulting to pandas implementation.\u001b[32m [repeated 12x across cluster]\u001b[0m\n",
            "\u001b[2m\u001b[36m(_deploy_ray_func pid=19221)\u001b[0m UserWarning: `read_html` is not currently supported by PandasOnRay, defaulting to pandas implementation.\u001b[32m [repeated 12x across cluster]\u001b[0m\n",
            "\u001b[2m\u001b[36m(_deploy_ray_func pid=19316)\u001b[0m UserWarning: `read_html` is not currently supported by PandasOnRay, defaulting to pandas implementation.\u001b[32m [repeated 11x across cluster]\u001b[0m\n",
            "\u001b[2m\u001b[36m(_deploy_ray_func pid=19221)\u001b[0m UserWarning: `read_html` is not currently supported by PandasOnRay, defaulting to pandas implementation.\u001b[32m [repeated 11x across cluster]\u001b[0m\n",
            "\u001b[2m\u001b[36m(_deploy_ray_func pid=19221)\u001b[0m UserWarning: `read_html` is not currently supported by PandasOnRay, defaulting to pandas implementation.\u001b[32m [repeated 12x across cluster]\u001b[0m\n",
            "\u001b[2m\u001b[36m(_deploy_ray_func pid=19221)\u001b[0m UserWarning: `read_html` is not currently supported by PandasOnRay, defaulting to pandas implementation.\u001b[32m [repeated 12x across cluster]\u001b[0m\n",
            "\u001b[2m\u001b[36m(_deploy_ray_func pid=19221)\u001b[0m UserWarning: `read_html` is not currently supported by PandasOnRay, defaulting to pandas implementation.\u001b[32m [repeated 12x across cluster]\u001b[0m\n",
            "\u001b[2m\u001b[36m(_deploy_ray_func pid=19316)\u001b[0m UserWarning: `read_html` is not currently supported by PandasOnRay, defaulting to pandas implementation.\u001b[32m [repeated 11x across cluster]\u001b[0m\n",
            "\u001b[2m\u001b[36m(_deploy_ray_func pid=19221)\u001b[0m UserWarning: `read_html` is not currently supported by PandasOnRay, defaulting to pandas implementation.\u001b[32m [repeated 11x across cluster]\u001b[0m\n",
            "\u001b[2m\u001b[36m(_deploy_ray_func pid=19221)\u001b[0m UserWarning: `read_html` is not currently supported by PandasOnRay, defaulting to pandas implementation.\u001b[32m [repeated 12x across cluster]\u001b[0m\n",
            "\u001b[2m\u001b[36m(_deploy_ray_func pid=19221)\u001b[0m UserWarning: `read_html` is not currently supported by PandasOnRay, defaulting to pandas implementation.\u001b[32m [repeated 12x across cluster]\u001b[0m\n",
            "\u001b[2m\u001b[36m(_deploy_ray_func pid=19316)\u001b[0m UserWarning: `read_html` is not currently supported by PandasOnRay, defaulting to pandas implementation.\u001b[32m [repeated 10x across cluster]\u001b[0m\n",
            "\u001b[2m\u001b[36m(_deploy_ray_func pid=19221)\u001b[0m UserWarning: `read_html` is not currently supported by PandasOnRay, defaulting to pandas implementation.\u001b[32m [repeated 11x across cluster]\u001b[0m\n",
            "\u001b[2m\u001b[36m(_deploy_ray_func pid=19316)\u001b[0m UserWarning: `read_html` is not currently supported by PandasOnRay, defaulting to pandas implementation.\u001b[32m [repeated 12x across cluster]\u001b[0m\n",
            "\u001b[2m\u001b[36m(_deploy_ray_func pid=19316)\u001b[0m UserWarning: `read_html` is not currently supported by PandasOnRay, defaulting to pandas implementation.\u001b[32m [repeated 12x across cluster]\u001b[0m\n",
            "\u001b[2m\u001b[36m(_deploy_ray_func pid=19316)\u001b[0m UserWarning: `read_html` is not currently supported by PandasOnRay, defaulting to pandas implementation.\u001b[32m [repeated 12x across cluster]\u001b[0m\n",
            "\u001b[2m\u001b[36m(_deploy_ray_func pid=19316)\u001b[0m UserWarning: `read_html` is not currently supported by PandasOnRay, defaulting to pandas implementation.\u001b[32m [repeated 12x across cluster]\u001b[0m\n",
            "\u001b[2m\u001b[36m(_deploy_ray_func pid=19221)\u001b[0m UserWarning: `read_html` is not currently supported by PandasOnRay, defaulting to pandas implementation.\u001b[32m [repeated 11x across cluster]\u001b[0m\n",
            "\u001b[2m\u001b[36m(_deploy_ray_func pid=19221)\u001b[0m UserWarning: `read_html` is not currently supported by PandasOnRay, defaulting to pandas implementation.\u001b[32m [repeated 12x across cluster]\u001b[0m\n",
            "\u001b[2m\u001b[36m(_deploy_ray_func pid=19221)\u001b[0m UserWarning: `read_html` is not currently supported by PandasOnRay, defaulting to pandas implementation.\u001b[32m [repeated 12x across cluster]\u001b[0m\n",
            "\u001b[2m\u001b[36m(_deploy_ray_func pid=19221)\u001b[0m UserWarning: `read_html` is not currently supported by PandasOnRay, defaulting to pandas implementation.\u001b[32m [repeated 12x across cluster]\u001b[0m\n",
            "\u001b[2m\u001b[36m(_deploy_ray_func pid=19221)\u001b[0m UserWarning: `read_html` is not currently supported by PandasOnRay, defaulting to pandas implementation.\u001b[32m [repeated 12x across cluster]\u001b[0m\n",
            "\u001b[2m\u001b[36m(_deploy_ray_func pid=19316)\u001b[0m UserWarning: `read_html` is not currently supported by PandasOnRay, defaulting to pandas implementation.\u001b[32m [repeated 12x across cluster]\u001b[0m\n",
            "\u001b[2m\u001b[36m(_deploy_ray_func pid=19221)\u001b[0m UserWarning: `read_html` is not currently supported by PandasOnRay, defaulting to pandas implementation.\u001b[32m [repeated 11x across cluster]\u001b[0m\n",
            "\u001b[2m\u001b[36m(_deploy_ray_func pid=19221)\u001b[0m UserWarning: `read_html` is not currently supported by PandasOnRay, defaulting to pandas implementation.\u001b[32m [repeated 12x across cluster]\u001b[0m\n",
            "\u001b[2m\u001b[36m(_deploy_ray_func pid=19221)\u001b[0m UserWarning: `read_html` is not currently supported by PandasOnRay, defaulting to pandas implementation.\u001b[32m [repeated 12x across cluster]\u001b[0m\n",
            "\u001b[2m\u001b[36m(_deploy_ray_func pid=19221)\u001b[0m UserWarning: `read_html` is not currently supported by PandasOnRay, defaulting to pandas implementation.\u001b[32m [repeated 12x across cluster]\u001b[0m\n",
            "\u001b[2m\u001b[36m(_deploy_ray_func pid=19221)\u001b[0m UserWarning: `read_html` is not currently supported by PandasOnRay, defaulting to pandas implementation.\u001b[32m [repeated 12x across cluster]\u001b[0m\n",
            "\u001b[2m\u001b[36m(_deploy_ray_func pid=19221)\u001b[0m UserWarning: `read_html` is not currently supported by PandasOnRay, defaulting to pandas implementation.\u001b[32m [repeated 12x across cluster]\u001b[0m\n",
            "\u001b[2m\u001b[36m(_deploy_ray_func pid=19221)\u001b[0m UserWarning: `read_html` is not currently supported by PandasOnRay, defaulting to pandas implementation.\u001b[32m [repeated 12x across cluster]\u001b[0m\n",
            "\u001b[2m\u001b[36m(_deploy_ray_func pid=19221)\u001b[0m UserWarning: `read_html` is not currently supported by PandasOnRay, defaulting to pandas implementation.\u001b[32m [repeated 12x across cluster]\u001b[0m\n",
            "\u001b[2m\u001b[36m(_deploy_ray_func pid=19221)\u001b[0m UserWarning: `read_html` is not currently supported by PandasOnRay, defaulting to pandas implementation.\u001b[32m [repeated 12x across cluster]\u001b[0m\n",
            "\u001b[2m\u001b[36m(_deploy_ray_func pid=19221)\u001b[0m UserWarning: `read_html` is not currently supported by PandasOnRay, defaulting to pandas implementation.\u001b[32m [repeated 12x across cluster]\u001b[0m\n",
            "\u001b[2m\u001b[36m(_deploy_ray_func pid=19221)\u001b[0m UserWarning: `read_html` is not currently supported by PandasOnRay, defaulting to pandas implementation.\u001b[32m [repeated 12x across cluster]\u001b[0m\n",
            "\u001b[2m\u001b[36m(_deploy_ray_func pid=19316)\u001b[0m UserWarning: `read_html` is not currently supported by PandasOnRay, defaulting to pandas implementation.\u001b[32m [repeated 12x across cluster]\u001b[0m\n",
            "\u001b[2m\u001b[36m(_deploy_ray_func pid=19221)\u001b[0m UserWarning: `read_html` is not currently supported by PandasOnRay, defaulting to pandas implementation.\u001b[32m [repeated 11x across cluster]\u001b[0m\n",
            "\u001b[2m\u001b[36m(_deploy_ray_func pid=19221)\u001b[0m UserWarning: `read_html` is not currently supported by PandasOnRay, defaulting to pandas implementation.\u001b[32m [repeated 12x across cluster]\u001b[0m\n",
            "\u001b[2m\u001b[36m(_deploy_ray_func pid=19316)\u001b[0m UserWarning: `read_html` is not currently supported by PandasOnRay, defaulting to pandas implementation.\u001b[32m [repeated 12x across cluster]\u001b[0m\n",
            "\u001b[2m\u001b[36m(_deploy_ray_func pid=19316)\u001b[0m UserWarning: `read_html` is not currently supported by PandasOnRay, defaulting to pandas implementation.\u001b[32m [repeated 12x across cluster]\u001b[0m\n",
            "\u001b[2m\u001b[36m(_deploy_ray_func pid=19316)\u001b[0m UserWarning: `read_html` is not currently supported by PandasOnRay, defaulting to pandas implementation.\u001b[32m [repeated 12x across cluster]\u001b[0m\n",
            "\u001b[2m\u001b[36m(_deploy_ray_func pid=19316)\u001b[0m UserWarning: `read_html` is not currently supported by PandasOnRay, defaulting to pandas implementation.\u001b[32m [repeated 12x across cluster]\u001b[0m\n",
            "\u001b[2m\u001b[36m(_deploy_ray_func pid=19221)\u001b[0m UserWarning: `read_html` is not currently supported by PandasOnRay, defaulting to pandas implementation.\u001b[32m [repeated 11x across cluster]\u001b[0m\n",
            "\u001b[2m\u001b[36m(_deploy_ray_func pid=19221)\u001b[0m UserWarning: `read_html` is not currently supported by PandasOnRay, defaulting to pandas implementation.\u001b[32m [repeated 12x across cluster]\u001b[0m\n",
            "\u001b[2m\u001b[36m(_deploy_ray_func pid=19221)\u001b[0m UserWarning: `read_html` is not currently supported by PandasOnRay, defaulting to pandas implementation.\u001b[32m [repeated 12x across cluster]\u001b[0m\n",
            "\u001b[2m\u001b[36m(_deploy_ray_func pid=19221)\u001b[0m UserWarning: `read_html` is not currently supported by PandasOnRay, defaulting to pandas implementation.\u001b[32m [repeated 12x across cluster]\u001b[0m\n",
            "\u001b[2m\u001b[36m(_deploy_ray_func pid=19221)\u001b[0m UserWarning: `read_html` is not currently supported by PandasOnRay, defaulting to pandas implementation.\u001b[32m [repeated 12x across cluster]\u001b[0m\n",
            "\u001b[2m\u001b[36m(_deploy_ray_func pid=19316)\u001b[0m UserWarning: `read_html` is not currently supported by PandasOnRay, defaulting to pandas implementation.\u001b[32m [repeated 11x across cluster]\u001b[0m\n",
            "\u001b[2m\u001b[36m(_deploy_ray_func pid=19316)\u001b[0m UserWarning: `read_html` is not currently supported by PandasOnRay, defaulting to pandas implementation.\u001b[32m [repeated 12x across cluster]\u001b[0m\n",
            "\u001b[2m\u001b[36m(_deploy_ray_func pid=19316)\u001b[0m UserWarning: `read_html` is not currently supported by PandasOnRay, defaulting to pandas implementation.\u001b[32m [repeated 12x across cluster]\u001b[0m\n",
            "\u001b[2m\u001b[36m(_deploy_ray_func pid=19316)\u001b[0m UserWarning: `read_html` is not currently supported by PandasOnRay, defaulting to pandas implementation.\u001b[32m [repeated 12x across cluster]\u001b[0m\n",
            "\u001b[2m\u001b[36m(_deploy_ray_func pid=19316)\u001b[0m UserWarning: `read_html` is not currently supported by PandasOnRay, defaulting to pandas implementation.\u001b[32m [repeated 12x across cluster]\u001b[0m\n",
            "\u001b[2m\u001b[36m(_deploy_ray_func pid=19316)\u001b[0m UserWarning: `read_html` is not currently supported by PandasOnRay, defaulting to pandas implementation.\u001b[32m [repeated 12x across cluster]\u001b[0m\n",
            "\u001b[2m\u001b[36m(_deploy_ray_func pid=19316)\u001b[0m UserWarning: `read_html` is not currently supported by PandasOnRay, defaulting to pandas implementation.\u001b[32m [repeated 12x across cluster]\u001b[0m\n",
            "\u001b[2m\u001b[36m(_deploy_ray_func pid=19316)\u001b[0m UserWarning: `read_html` is not currently supported by PandasOnRay, defaulting to pandas implementation.\u001b[32m [repeated 12x across cluster]\u001b[0m\n",
            "\u001b[2m\u001b[36m(_deploy_ray_func pid=19316)\u001b[0m UserWarning: `read_html` is not currently supported by PandasOnRay, defaulting to pandas implementation.\u001b[32m [repeated 12x across cluster]\u001b[0m\n",
            "\u001b[2m\u001b[36m(_deploy_ray_func pid=19221)\u001b[0m UserWarning: `read_html` is not currently supported by PandasOnRay, defaulting to pandas implementation.\u001b[32m [repeated 11x across cluster]\u001b[0m\n",
            "\u001b[2m\u001b[36m(_deploy_ray_func pid=19221)\u001b[0m UserWarning: `read_html` is not currently supported by PandasOnRay, defaulting to pandas implementation.\u001b[32m [repeated 12x across cluster]\u001b[0m\n",
            "\u001b[2m\u001b[36m(_deploy_ray_func pid=19221)\u001b[0m UserWarning: `read_html` is not currently supported by PandasOnRay, defaulting to pandas implementation.\u001b[32m [repeated 11x across cluster]\u001b[0m\n",
            "\u001b[2m\u001b[36m(_deploy_ray_func pid=19221)\u001b[0m UserWarning: `read_html` is not currently supported by PandasOnRay, defaulting to pandas implementation.\u001b[32m [repeated 12x across cluster]\u001b[0m\n",
            "\u001b[2m\u001b[36m(_deploy_ray_func pid=19221)\u001b[0m UserWarning: `read_html` is not currently supported by PandasOnRay, defaulting to pandas implementation.\u001b[32m [repeated 12x across cluster]\u001b[0m\n",
            "\u001b[2m\u001b[36m(_deploy_ray_func pid=19221)\u001b[0m UserWarning: `read_html` is not currently supported by PandasOnRay, defaulting to pandas implementation.\u001b[32m [repeated 12x across cluster]\u001b[0m\n",
            "\u001b[2m\u001b[36m(_deploy_ray_func pid=19221)\u001b[0m UserWarning: `read_html` is not currently supported by PandasOnRay, defaulting to pandas implementation.\u001b[32m [repeated 12x across cluster]\u001b[0m\n",
            "\u001b[2m\u001b[36m(_deploy_ray_func pid=19316)\u001b[0m UserWarning: `read_html` is not currently supported by PandasOnRay, defaulting to pandas implementation.\u001b[32m [repeated 12x across cluster]\u001b[0m\n",
            "\u001b[2m\u001b[36m(_deploy_ray_func pid=19316)\u001b[0m UserWarning: `read_html` is not currently supported by PandasOnRay, defaulting to pandas implementation.\u001b[32m [repeated 12x across cluster]\u001b[0m\n",
            "\u001b[2m\u001b[36m(_deploy_ray_func pid=19221)\u001b[0m UserWarning: `read_html` is not currently supported by PandasOnRay, defaulting to pandas implementation.\u001b[32m [repeated 12x across cluster]\u001b[0m\n",
            "\u001b[2m\u001b[36m(_deploy_ray_func pid=19316)\u001b[0m UserWarning: `read_html` is not currently supported by PandasOnRay, defaulting to pandas implementation.\u001b[32m [repeated 12x across cluster]\u001b[0m\n",
            "\u001b[2m\u001b[36m(_deploy_ray_func pid=19316)\u001b[0m UserWarning: `read_html` is not currently supported by PandasOnRay, defaulting to pandas implementation.\u001b[32m [repeated 12x across cluster]\u001b[0m\n",
            "\u001b[2m\u001b[36m(_deploy_ray_func pid=19221)\u001b[0m UserWarning: `read_html` is not currently supported by PandasOnRay, defaulting to pandas implementation.\u001b[32m [repeated 12x across cluster]\u001b[0m\n",
            "\u001b[2m\u001b[36m(_deploy_ray_func pid=19221)\u001b[0m UserWarning: `read_html` is not currently supported by PandasOnRay, defaulting to pandas implementation.\u001b[32m [repeated 12x across cluster]\u001b[0m\n",
            "\u001b[2m\u001b[36m(_deploy_ray_func pid=19221)\u001b[0m UserWarning: `read_html` is not currently supported by PandasOnRay, defaulting to pandas implementation.\u001b[32m [repeated 12x across cluster]\u001b[0m\n",
            "\u001b[2m\u001b[36m(_deploy_ray_func pid=19221)\u001b[0m UserWarning: `read_html` is not currently supported by PandasOnRay, defaulting to pandas implementation.\u001b[32m [repeated 12x across cluster]\u001b[0m\n",
            "\u001b[2m\u001b[36m(_deploy_ray_func pid=19221)\u001b[0m UserWarning: `read_html` is not currently supported by PandasOnRay, defaulting to pandas implementation.\u001b[32m [repeated 12x across cluster]\u001b[0m\n",
            "\u001b[2m\u001b[36m(_deploy_ray_func pid=19221)\u001b[0m UserWarning: `read_html` is not currently supported by PandasOnRay, defaulting to pandas implementation.\u001b[32m [repeated 12x across cluster]\u001b[0m\n",
            "\u001b[2m\u001b[36m(_deploy_ray_func pid=19221)\u001b[0m UserWarning: `read_html` is not currently supported by PandasOnRay, defaulting to pandas implementation.\u001b[32m [repeated 12x across cluster]\u001b[0m\n",
            "\u001b[2m\u001b[36m(_deploy_ray_func pid=19261)\u001b[0m UserWarning: `read_html` is not currently supported by PandasOnRay, defaulting to pandas implementation.\u001b[32m [repeated 11x across cluster]\u001b[0m\n",
            "\u001b[2m\u001b[36m(_deploy_ray_func pid=19261)\u001b[0m UserWarning: `read_html` is not currently supported by PandasOnRay, defaulting to pandas implementation.\u001b[32m [repeated 12x across cluster]\u001b[0m\n",
            "\u001b[2m\u001b[36m(_deploy_ray_func pid=19261)\u001b[0m UserWarning: `read_html` is not currently supported by PandasOnRay, defaulting to pandas implementation.\u001b[32m [repeated 12x across cluster]\u001b[0m\n",
            "\u001b[2m\u001b[36m(_deploy_ray_func pid=19261)\u001b[0m UserWarning: `read_html` is not currently supported by PandasOnRay, defaulting to pandas implementation.\u001b[32m [repeated 12x across cluster]\u001b[0m\n",
            "\u001b[2m\u001b[36m(_deploy_ray_func pid=19261)\u001b[0m UserWarning: `read_html` is not currently supported by PandasOnRay, defaulting to pandas implementation.\u001b[32m [repeated 12x across cluster]\u001b[0m\n",
            "\u001b[2m\u001b[36m(_deploy_ray_func pid=19104)\u001b[0m FutureWarning: Dropping of nuisance columns in DataFrame reductions (with 'numeric_only=None') is deprecated; in a future version this will raise TypeError.  Select only valid columns before calling the reduction.\n",
            "\u001b[2m\u001b[36m(_deploy_ray_func pid=19104)\u001b[0m FutureWarning: Dropping of nuisance columns in DataFrame reductions (with 'numeric_only=None') is deprecated; in a future version this will raise TypeError.  Select only valid columns before calling the reduction.\n",
            "\u001b[2m\u001b[36m(_deploy_ray_func pid=19104)\u001b[0m FutureWarning: Dropping of nuisance columns in DataFrame reductions (with 'numeric_only=None') is deprecated; in a future version this will raise TypeError.  Select only valid columns before calling the reduction.\n",
            "\u001b[2m\u001b[36m(_deploy_ray_func pid=19104)\u001b[0m FutureWarning: Dropping of nuisance columns in DataFrame reductions (with 'numeric_only=None') is deprecated; in a future version this will raise TypeError.  Select only valid columns before calling the reduction.\n",
            "\u001b[2m\u001b[36m(_deploy_ray_func pid=19104)\u001b[0m Please refer to https://modin.readthedocs.io/en/stable/supported_apis/defaulting_to_pandas.html for explanation.\n",
            "\u001b[2m\u001b[36m(_deploy_ray_func pid=19261)\u001b[0m UserWarning: `read_html` is not currently supported by PandasOnRay, defaulting to pandas implementation.\u001b[32m [repeated 12x across cluster]\u001b[0m\n",
            "\u001b[2m\u001b[36m(_deploy_ray_func pid=19261)\u001b[0m UserWarning: `read_html` is not currently supported by PandasOnRay, defaulting to pandas implementation.\u001b[32m [repeated 11x across cluster]\u001b[0m\n",
            "\u001b[2m\u001b[36m(_deploy_ray_func pid=19104)\u001b[0m UserWarning: `read_html` is not currently supported by PandasOnRay, defaulting to pandas implementation.\u001b[32m [repeated 12x across cluster]\u001b[0m\n",
            "\u001b[2m\u001b[36m(_deploy_ray_func pid=19104)\u001b[0m UserWarning: `read_html` is not currently supported by PandasOnRay, defaulting to pandas implementation.\u001b[32m [repeated 12x across cluster]\u001b[0m\n",
            "\u001b[2m\u001b[36m(_deploy_ray_func pid=19104)\u001b[0m UserWarning: `read_html` is not currently supported by PandasOnRay, defaulting to pandas implementation.\u001b[32m [repeated 12x across cluster]\u001b[0m\n",
            "\u001b[2m\u001b[36m(_deploy_ray_func pid=19104)\u001b[0m UserWarning: `read_html` is not currently supported by PandasOnRay, defaulting to pandas implementation.\u001b[32m [repeated 12x across cluster]\u001b[0m\n",
            "\u001b[2m\u001b[36m(_deploy_ray_func pid=19104)\u001b[0m UserWarning: `read_html` is not currently supported by PandasOnRay, defaulting to pandas implementation.\u001b[32m [repeated 12x across cluster]\u001b[0m\n",
            "\u001b[2m\u001b[36m(_deploy_ray_func pid=19104)\u001b[0m UserWarning: `read_html` is not currently supported by PandasOnRay, defaulting to pandas implementation.\u001b[32m [repeated 12x across cluster]\u001b[0m\n",
            "\u001b[2m\u001b[36m(_deploy_ray_func pid=19104)\u001b[0m UserWarning: `read_html` is not currently supported by PandasOnRay, defaulting to pandas implementation.\u001b[32m [repeated 12x across cluster]\u001b[0m\n",
            "\u001b[2m\u001b[36m(_deploy_ray_func pid=19104)\u001b[0m UserWarning: `read_html` is not currently supported by PandasOnRay, defaulting to pandas implementation.\u001b[32m [repeated 12x across cluster]\u001b[0m\n",
            "\u001b[2m\u001b[36m(_deploy_ray_func pid=19104)\u001b[0m UserWarning: `read_html` is not currently supported by PandasOnRay, defaulting to pandas implementation.\u001b[32m [repeated 12x across cluster]\u001b[0m\n",
            "\u001b[2m\u001b[36m(_deploy_ray_func pid=19261)\u001b[0m UserWarning: `read_html` is not currently supported by PandasOnRay, defaulting to pandas implementation.\u001b[32m [repeated 11x across cluster]\u001b[0m\n",
            "\u001b[2m\u001b[36m(_deploy_ray_func pid=19261)\u001b[0m UserWarning: `read_html` is not currently supported by PandasOnRay, defaulting to pandas implementation.\u001b[32m [repeated 12x across cluster]\u001b[0m\n",
            "\u001b[2m\u001b[36m(_deploy_ray_func pid=19261)\u001b[0m UserWarning: `read_html` is not currently supported by PandasOnRay, defaulting to pandas implementation.\u001b[32m [repeated 12x across cluster]\u001b[0m\n",
            "\u001b[2m\u001b[36m(_deploy_ray_func pid=19261)\u001b[0m UserWarning: `read_html` is not currently supported by PandasOnRay, defaulting to pandas implementation.\u001b[32m [repeated 12x across cluster]\u001b[0m\n",
            "\u001b[2m\u001b[36m(_deploy_ray_func pid=19261)\u001b[0m UserWarning: `read_html` is not currently supported by PandasOnRay, defaulting to pandas implementation.\u001b[32m [repeated 12x across cluster]\u001b[0m\n",
            "\u001b[2m\u001b[36m(_deploy_ray_func pid=19104)\u001b[0m UserWarning: `read_html` is not currently supported by PandasOnRay, defaulting to pandas implementation.\u001b[32m [repeated 12x across cluster]\u001b[0m\n",
            "\u001b[2m\u001b[36m(_deploy_ray_func pid=19104)\u001b[0m UserWarning: `read_html` is not currently supported by PandasOnRay, defaulting to pandas implementation.\u001b[32m [repeated 12x across cluster]\u001b[0m\n",
            "\u001b[2m\u001b[36m(_deploy_ray_func pid=19261)\u001b[0m UserWarning: `read_html` is not currently supported by PandasOnRay, defaulting to pandas implementation.\u001b[32m [repeated 12x across cluster]\u001b[0m\n",
            "\u001b[2m\u001b[36m(_deploy_ray_func pid=19261)\u001b[0m UserWarning: `read_html` is not currently supported by PandasOnRay, defaulting to pandas implementation.\u001b[32m [repeated 12x across cluster]\u001b[0m\n",
            "\u001b[2m\u001b[36m(_deploy_ray_func pid=19261)\u001b[0m UserWarning: `read_html` is not currently supported by PandasOnRay, defaulting to pandas implementation.\u001b[32m [repeated 12x across cluster]\u001b[0m\n",
            "\u001b[2m\u001b[36m(_deploy_ray_func pid=19261)\u001b[0m UserWarning: `read_html` is not currently supported by PandasOnRay, defaulting to pandas implementation.\u001b[32m [repeated 12x across cluster]\u001b[0m\n",
            "\u001b[2m\u001b[36m(_deploy_ray_func pid=19261)\u001b[0m UserWarning: `read_html` is not currently supported by PandasOnRay, defaulting to pandas implementation.\u001b[32m [repeated 12x across cluster]\u001b[0m\n",
            "\u001b[2m\u001b[36m(_deploy_ray_func pid=19261)\u001b[0m UserWarning: `read_html` is not currently supported by PandasOnRay, defaulting to pandas implementation.\u001b[32m [repeated 10x across cluster]\u001b[0m\n",
            "\u001b[2m\u001b[36m(_deploy_ray_func pid=19261)\u001b[0m UserWarning: `read_html` is not currently supported by PandasOnRay, defaulting to pandas implementation.\u001b[32m [repeated 12x across cluster]\u001b[0m\n",
            "\u001b[2m\u001b[36m(_deploy_ray_func pid=19261)\u001b[0m UserWarning: `read_html` is not currently supported by PandasOnRay, defaulting to pandas implementation.\u001b[32m [repeated 12x across cluster]\u001b[0m\n",
            "\u001b[2m\u001b[36m(_deploy_ray_func pid=19104)\u001b[0m UserWarning: `read_html` is not currently supported by PandasOnRay, defaulting to pandas implementation.\u001b[32m [repeated 12x across cluster]\u001b[0m\n",
            "\u001b[2m\u001b[36m(_deploy_ray_func pid=19104)\u001b[0m UserWarning: `read_html` is not currently supported by PandasOnRay, defaulting to pandas implementation.\u001b[32m [repeated 12x across cluster]\u001b[0m\n",
            "\u001b[2m\u001b[36m(_deploy_ray_func pid=19104)\u001b[0m UserWarning: `read_html` is not currently supported by PandasOnRay, defaulting to pandas implementation.\u001b[32m [repeated 12x across cluster]\u001b[0m\n",
            "\u001b[2m\u001b[36m(_deploy_ray_func pid=19104)\u001b[0m UserWarning: `read_html` is not currently supported by PandasOnRay, defaulting to pandas implementation.\u001b[32m [repeated 12x across cluster]\u001b[0m\n",
            "\u001b[2m\u001b[36m(_deploy_ray_func pid=19104)\u001b[0m UserWarning: `read_html` is not currently supported by PandasOnRay, defaulting to pandas implementation.\u001b[32m [repeated 12x across cluster]\u001b[0m\n",
            "\u001b[2m\u001b[36m(_deploy_ray_func pid=19261)\u001b[0m UserWarning: `read_html` is not currently supported by PandasOnRay, defaulting to pandas implementation.\u001b[32m [repeated 11x across cluster]\u001b[0m\n",
            "\u001b[2m\u001b[36m(_deploy_ray_func pid=19261)\u001b[0m UserWarning: `read_html` is not currently supported by PandasOnRay, defaulting to pandas implementation.\u001b[32m [repeated 12x across cluster]\u001b[0m\n",
            "\u001b[2m\u001b[36m(_deploy_ray_func pid=19261)\u001b[0m UserWarning: `read_html` is not currently supported by PandasOnRay, defaulting to pandas implementation.\u001b[32m [repeated 12x across cluster]\u001b[0m\n",
            "\u001b[2m\u001b[36m(_deploy_ray_func pid=19261)\u001b[0m UserWarning: `read_html` is not currently supported by PandasOnRay, defaulting to pandas implementation.\u001b[32m [repeated 12x across cluster]\u001b[0m\n",
            "\u001b[2m\u001b[36m(_deploy_ray_func pid=19104)\u001b[0m UserWarning: `read_html` is not currently supported by PandasOnRay, defaulting to pandas implementation.\u001b[32m [repeated 12x across cluster]\u001b[0m\n",
            "\u001b[2m\u001b[36m(_deploy_ray_func pid=19104)\u001b[0m UserWarning: `read_html` is not currently supported by PandasOnRay, defaulting to pandas implementation.\u001b[32m [repeated 12x across cluster]\u001b[0m\n",
            "\u001b[2m\u001b[36m(_deploy_ray_func pid=19104)\u001b[0m UserWarning: `read_html` is not currently supported by PandasOnRay, defaulting to pandas implementation.\u001b[32m [repeated 12x across cluster]\u001b[0m\n",
            "\u001b[2m\u001b[36m(_deploy_ray_func pid=19104)\u001b[0m UserWarning: `read_html` is not currently supported by PandasOnRay, defaulting to pandas implementation.\u001b[32m [repeated 12x across cluster]\u001b[0m\n",
            "\u001b[2m\u001b[36m(_deploy_ray_func pid=19104)\u001b[0m UserWarning: `read_html` is not currently supported by PandasOnRay, defaulting to pandas implementation.\u001b[32m [repeated 12x across cluster]\u001b[0m\n",
            "\u001b[2m\u001b[36m(_deploy_ray_func pid=19104)\u001b[0m UserWarning: `read_html` is not currently supported by PandasOnRay, defaulting to pandas implementation.\u001b[32m [repeated 12x across cluster]\u001b[0m\n",
            "\u001b[2m\u001b[36m(_deploy_ray_func pid=19261)\u001b[0m UserWarning: `read_html` is not currently supported by PandasOnRay, defaulting to pandas implementation.\u001b[32m [repeated 12x across cluster]\u001b[0m\n",
            "\u001b[2m\u001b[36m(_deploy_ray_func pid=19104)\u001b[0m UserWarning: `read_html` is not currently supported by PandasOnRay, defaulting to pandas implementation.\u001b[32m [repeated 12x across cluster]\u001b[0m\n",
            "\u001b[2m\u001b[36m(_deploy_ray_func pid=19104)\u001b[0m UserWarning: `read_html` is not currently supported by PandasOnRay, defaulting to pandas implementation.\u001b[32m [repeated 12x across cluster]\u001b[0m\n",
            "\u001b[2m\u001b[36m(_deploy_ray_func pid=19104)\u001b[0m UserWarning: `read_html` is not currently supported by PandasOnRay, defaulting to pandas implementation.\u001b[32m [repeated 12x across cluster]\u001b[0m\n",
            "\u001b[2m\u001b[36m(_deploy_ray_func pid=19261)\u001b[0m UserWarning: `read_html` is not currently supported by PandasOnRay, defaulting to pandas implementation.\u001b[32m [repeated 12x across cluster]\u001b[0m\n",
            "\u001b[2m\u001b[36m(_deploy_ray_func pid=19261)\u001b[0m UserWarning: `read_html` is not currently supported by PandasOnRay, defaulting to pandas implementation.\u001b[32m [repeated 12x across cluster]\u001b[0m\n",
            "\u001b[2m\u001b[36m(_deploy_ray_func pid=19261)\u001b[0m UserWarning: `read_html` is not currently supported by PandasOnRay, defaulting to pandas implementation.\u001b[32m [repeated 12x across cluster]\u001b[0m\n",
            "\u001b[2m\u001b[36m(_deploy_ray_func pid=19104)\u001b[0m UserWarning: `read_html` is not currently supported by PandasOnRay, defaulting to pandas implementation.\u001b[32m [repeated 12x across cluster]\u001b[0m\n",
            "\u001b[2m\u001b[36m(_deploy_ray_func pid=19104)\u001b[0m UserWarning: `read_html` is not currently supported by PandasOnRay, defaulting to pandas implementation.\u001b[32m [repeated 12x across cluster]\u001b[0m\n",
            "\u001b[2m\u001b[36m(_deploy_ray_func pid=19104)\u001b[0m UserWarning: `read_html` is not currently supported by PandasOnRay, defaulting to pandas implementation.\u001b[32m [repeated 12x across cluster]\u001b[0m\n",
            "\u001b[2m\u001b[36m(_deploy_ray_func pid=19104)\u001b[0m UserWarning: `read_html` is not currently supported by PandasOnRay, defaulting to pandas implementation.\u001b[32m [repeated 12x across cluster]\u001b[0m\n",
            "\u001b[2m\u001b[36m(_deploy_ray_func pid=19104)\u001b[0m UserWarning: `read_html` is not currently supported by PandasOnRay, defaulting to pandas implementation.\u001b[32m [repeated 12x across cluster]\u001b[0m\n",
            "\u001b[2m\u001b[36m(_deploy_ray_func pid=19104)\u001b[0m UserWarning: `read_html` is not currently supported by PandasOnRay, defaulting to pandas implementation.\u001b[32m [repeated 12x across cluster]\u001b[0m\n",
            "\u001b[2m\u001b[36m(_deploy_ray_func pid=19261)\u001b[0m UserWarning: `read_html` is not currently supported by PandasOnRay, defaulting to pandas implementation.\u001b[32m [repeated 12x across cluster]\u001b[0m\n",
            "\u001b[2m\u001b[36m(_deploy_ray_func pid=19104)\u001b[0m UserWarning: `read_html` is not currently supported by PandasOnRay, defaulting to pandas implementation.\u001b[32m [repeated 12x across cluster]\u001b[0m\n",
            "\u001b[2m\u001b[36m(_deploy_ray_func pid=19104)\u001b[0m UserWarning: `read_html` is not currently supported by PandasOnRay, defaulting to pandas implementation.\u001b[32m [repeated 6x across cluster]\u001b[0m\n",
            "\u001b[2m\u001b[36m(_deploy_ray_func pid=19104)\u001b[0m UserWarning: `read_html` is not currently supported by PandasOnRay, defaulting to pandas implementation.\u001b[32m [repeated 6x across cluster]\u001b[0m\n",
            "\u001b[2m\u001b[36m(_deploy_ray_func pid=19104)\u001b[0m UserWarning: `read_html` is not currently supported by PandasOnRay, defaulting to pandas implementation.\u001b[32m [repeated 6x across cluster]\u001b[0m\n",
            "\u001b[2m\u001b[36m(_deploy_ray_func pid=19104)\u001b[0m UserWarning: `read_html` is not currently supported by PandasOnRay, defaulting to pandas implementation.\u001b[32m [repeated 6x across cluster]\u001b[0m\n",
            "\u001b[2m\u001b[36m(_deploy_ray_func pid=19104)\u001b[0m UserWarning: `read_html` is not currently supported by PandasOnRay, defaulting to pandas implementation.\u001b[32m [repeated 6x across cluster]\u001b[0m\n"
          ]
        }
      ]
    },
    {
      "cell_type": "code",
      "source": [
        "df = reduce(lambda df1, df2: pd.concat([df1, df2], ignore_index=True), res)\n",
        "df = df[df['BASE'] >= BASELINE] # IDGAF\n",
        "df = df[df[\"BASE\"]<700_000] # Most certainly data entry error"
      ],
      "metadata": {
        "colab": {
          "base_uri": "https://localhost:8080/"
        },
        "id": "3_QN8ot9ees3",
        "outputId": "3a372b44-9b01-418e-9a53-2822e0486d86"
      },
      "execution_count": 20,
      "outputs": [
        {
          "output_type": "stream",
          "name": "stderr",
          "text": [
            "\u001b[2m\u001b[36m(_deploy_ray_func pid=19104)\u001b[0m FutureWarning: Dropping of nuisance columns in DataFrame reductions (with 'numeric_only=None') is deprecated; in a future version this will raise TypeError.  Select only valid columns before calling the reduction.\n",
            "\u001b[2m\u001b[36m(_deploy_ray_func pid=19104)\u001b[0m FutureWarning: Dropping of nuisance columns in DataFrame reductions (with 'numeric_only=None') is deprecated; in a future version this will raise TypeError.  Select only valid columns before calling the reduction.\n"
          ]
        }
      ]
    },
    {
      "cell_type": "code",
      "source": [
        "df = df.sort_values(by=\"BASE\", ascending=False)"
      ],
      "metadata": {
        "id": "XzZGt9F5ymzA"
      },
      "execution_count": 21,
      "outputs": []
    },
    {
      "cell_type": "code",
      "source": [
        "pd.set_option('display.max_columns', None)\n",
        "pd.set_option('display.max_rows', None)"
      ],
      "metadata": {
        "id": "HNwuZtcTeenA"
      },
      "execution_count": 22,
      "outputs": []
    },
    {
      "cell_type": "code",
      "source": [
        "df"
      ],
      "metadata": {
        "id": "kj4vrFXVz_7X"
      },
      "execution_count": null,
      "outputs": []
    },
    {
      "cell_type": "code",
      "source": [
        "df['FIRM'].unique()"
      ],
      "metadata": {
        "colab": {
          "base_uri": "https://localhost:8080/"
        },
        "id": "g7zuaq6beksI",
        "outputId": "0a1ee815-17dd-4a24-993c-6dbebee1c0f0"
      },
      "execution_count": 24,
      "outputs": [
        {
          "output_type": "execute_result",
          "data": {
            "text/plain": [
              "array(['VIKING GLOBAL INVESTORS LP', 'D E SHAW & CO LP',\n",
              "       'CITADEL SECURITIES AMERICAS SERVICES LLC', 'BLOOMBERG LP',\n",
              "       'POINT72 ASSET MANAGEMENT LP', 'POINT72 LP', 'NDVR INC',\n",
              "       'CITADEL AMERICAS SERVICES LLC', 'TWO SIGMA INVESTMENTS LP',\n",
              "       'CITADEL ENTERPRISE AMERICAS SERVICES LLC', 'JUMP OPERATIONS LLC',\n",
              "       'VIRTU FINANCIAL OPERATING LLC', 'SQUAREPOINT SERVICES US LLC',\n",
              "       'CUBIST SYSTEMATIC STRATEGIES LLC', 'AFFIRM INC',\n",
              "       'BALYASNY ASSET MANAGEMENT LP', 'MPG OPERATIONS LLC',\n",
              "       'CITADEL SECURITIES AMERICAS LLC',\n",
              "       'SCHONFELD STRATEGIC ADVISORS LLC', 'SOROS FUND MANAGEMENT LLC',\n",
              "       'ARROWSTREET CAPITAL LIMITED PARTNERSHIP', 'OAK THISTLE LLC',\n",
              "       'WELLS FARGO BANK NA', 'FEDERAL HOME LOAN MORTGAGE CORPORATION',\n",
              "       'SCIENTECH RESEARCH LLC', 'LAURION CAPITAL MANAGEMENT LP',\n",
              "       'CTC TRADING GROUP LLC', 'CENTIVA CAPITAL LP',\n",
              "       'MANIFOLD CAPITAL PARTNERS LP',\n",
              "       'PACIFIC INVESTMENT MANAGEMENT COMPANY LLC', 'J GOLDMAN & CO LP',\n",
              "       'CITIGROUP GLOBAL MARKETS INC', 'BC USA GP LLC', 'FMR LLC',\n",
              "       'JPMORGAN CHASE & CO', 'RADIX TRADING LLC',\n",
              "       'FIDELITY MANAGEMENT & RESEARCH COMPANY LLC',\n",
              "       'WALLEYE CAPITAL LLC', 'SQUAREPOINT OPS LLC',\n",
              "       'TOWER RESEARCH CAPITAL LLC'], dtype=object)"
            ]
          },
          "metadata": {},
          "execution_count": 24
        }
      ]
    },
    {
      "cell_type": "code",
      "source": [
        "df[\"FIRM\"].value_counts(ascending=False)"
      ],
      "metadata": {
        "colab": {
          "base_uri": "https://localhost:8080/"
        },
        "id": "Pvgo7-g0hunh",
        "outputId": "11d11969-5e68-4ce4-dddf-67b5824d7e2a"
      },
      "execution_count": 28,
      "outputs": [
        {
          "output_type": "execute_result",
          "data": {
            "text/plain": [
              "CITADEL SECURITIES AMERICAS SERVICES LLC      39\n",
              "CITADEL AMERICAS SERVICES LLC                 30\n",
              "TWO SIGMA INVESTMENTS LP                      18\n",
              "POINT72 LP                                    15\n",
              "BALYASNY ASSET MANAGEMENT LP                  15\n",
              "JUMP OPERATIONS LLC                           15\n",
              "BLOOMBERG LP                                  12\n",
              "MPG OPERATIONS LLC                             9\n",
              "CTC TRADING GROUP LLC                          9\n",
              "FEDERAL HOME LOAN MORTGAGE CORPORATION         9\n",
              "BC USA GP LLC                                  9\n",
              "CITIGROUP GLOBAL MARKETS INC                   6\n",
              "SQUAREPOINT SERVICES US LLC                    6\n",
              "SCHONFELD STRATEGIC ADVISORS LLC               6\n",
              "PACIFIC INVESTMENT MANAGEMENT COMPANY LLC      6\n",
              "SOROS FUND MANAGEMENT LLC                      6\n",
              "ARROWSTREET CAPITAL LIMITED PARTNERSHIP        6\n",
              "AFFIRM INC                                     6\n",
              "TOWER RESEARCH CAPITAL LLC                     6\n",
              "CITADEL ENTERPRISE AMERICAS SERVICES LLC       6\n",
              "FIDELITY MANAGEMENT & RESEARCH COMPANY LLC     6\n",
              "CUBIST SYSTEMATIC STRATEGIES LLC               6\n",
              "VIRTU FINANCIAL OPERATING LLC                  3\n",
              "SQUAREPOINT OPS LLC                            3\n",
              "RADIX TRADING LLC                              3\n",
              "SCIENTECH RESEARCH LLC                         3\n",
              "VIKING GLOBAL INVESTORS LP                     3\n",
              "WALLEYE CAPITAL LLC                            3\n",
              "LAURION CAPITAL MANAGEMENT LP                  3\n",
              "POINT72 ASSET MANAGEMENT LP                    3\n",
              "OAK THISTLE LLC                                3\n",
              "NDVR INC                                       3\n",
              "MANIFOLD CAPITAL PARTNERS LP                   3\n",
              "JPMORGAN CHASE & CO                            3\n",
              "J GOLDMAN & CO LP                              3\n",
              "FMR LLC                                        3\n",
              "D E SHAW & CO LP                               3\n",
              "CITADEL SECURITIES AMERICAS LLC                3\n",
              "CENTIVA CAPITAL LP                             3\n",
              "WELLS FARGO BANK NA                            3\n",
              "Name: FIRM, dtype: int64"
            ]
          },
          "metadata": {},
          "execution_count": 28
        }
      ]
    },
    {
      "cell_type": "code",
      "source": [],
      "metadata": {
        "id": "F2Pkd555hue1"
      },
      "execution_count": 40,
      "outputs": []
    },
    {
      "cell_type": "code",
      "source": [],
      "metadata": {
        "id": "1krHRhXKkN6I"
      },
      "execution_count": null,
      "outputs": []
    }
  ]
}