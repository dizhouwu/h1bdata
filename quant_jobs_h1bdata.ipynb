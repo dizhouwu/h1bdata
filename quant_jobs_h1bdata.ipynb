{
 "cells": [
  {
   "cell_type": "code",
   "execution_count": 162,
   "metadata": {},
   "outputs": [],
   "source": [
    "import asyncio\n",
    "import ssl\n",
    "from functools import reduce\n",
    "\n",
    "import nest_asyncio\n",
    "import pandas as pd\n",
    "import requests\n",
    "\n",
    "ssl._create_default_https_context = ssl._create_unverified_context\n",
    "nest_asyncio.apply()"
   ]
  },
  {
   "cell_type": "code",
   "execution_count": 163,
   "metadata": {},
   "outputs": [],
   "source": [
    "BASELINE = 150000"
   ]
  },
  {
   "cell_type": "code",
   "execution_count": 164,
   "metadata": {},
   "outputs": [],
   "source": [
    "async def _get_df(title):\n",
    "    df = pd.read_html(\n",
    "        f\"https://h1bdata.info/index.php?em=&job={title}&city=&year=All+Years\")[0]\n",
    "    if len(df) == 0:\n",
    "        return\n",
    "    df['BASE SALARY'] = df['BASE SALARY'].apply(\n",
    "        lambda x: float(x) if type(x) in (float, int) else (float(x) if x.isdigit() else 0.0))\n",
    "    df = df[df['BASE SALARY'] > BASELINE]\n",
    "    return df"
   ]
  },
  {
   "cell_type": "code",
   "execution_count": 165,
   "metadata": {},
   "outputs": [],
   "source": [
    "async def main():\n",
    "    tasks = []\n",
    "    titles_quantitative = ['quantitative+researcher', 'quantitative+trader', 'quantitative+research+analyst', 'quantitative+portfolio+manager', 'quantitative+analyst',\n",
    "                       'quantitative+developer', 'quantitative+software+engineer', 'quantitative+research+engineer', 'quantitative+engineer', 'quantitative+strategist', 'quantitative+investment+analyst']\n",
    "    titles_quant = [_.replace('quantitative', 'quant') for _ in titles_quantitative]\n",
    "    titles = titles_quantitative + titles_quant\n",
    "    for title in titles:\n",
    "        tasks.append(_get_df(title))\n",
    "    \n",
    "    dfs = await asyncio.gather(*tasks)\n",
    "    return dfs"
   ]
  },
  {
   "cell_type": "code",
   "execution_count": 166,
   "metadata": {
    "scrolled": true
   },
   "outputs": [],
   "source": [
    "dfs = asyncio.run(main())\n",
    "df = reduce(lambda df1, df2: pd.concat([df1, df2], ignore_index=True), dfs)\n",
    "df = df.sort_values(by=\"BASE SALARY\", ascending=False)"
   ]
  },
  {
   "cell_type": "code",
   "execution_count": 167,
   "metadata": {},
   "outputs": [
    {
     "data": {
      "text/plain": [
       "<matplotlib.axes._subplots.AxesSubplot at 0x1dabe89a760>"
      ]
     },
     "execution_count": 167,
     "metadata": {},
     "output_type": "execute_result"
    },
    {
     "data": {
      "image/png": "[encoded data removed]",
      "text/plain": [
       "<Figure size 432x288 with 1 Axes>"
      ]
     },
     "metadata": {
      "needs_background": "light"
     },
     "output_type": "display_data"
    }
   ],
   "source": [
    "df['BASE SALARY'].plot(kind='hist')"
   ]
  },
  {
   "cell_type": "code",
   "execution_count": 168,
   "metadata": {},
   "outputs": [
    {
     "data": {
      "text/html": [
       "<div>\n",
       "<style scoped>\n",
       "    .dataframe tbody tr th:only-of-type {\n",
       "        vertical-align: middle;\n",
       "    }\n",
       "\n",
       "    .dataframe tbody tr th {\n",
       "        vertical-align: top;\n",
       "    }\n",
       "\n",
       "    .dataframe thead th {\n",
       "        text-align: right;\n",
       "    }\n",
       "</style>\n",
       "<table border=\"1\" class=\"dataframe\">\n",
       "  <thead>\n",
       "    <tr style=\"text-align: right;\">\n",
       "      <th></th>\n",
       "      <th>BASE SALARY</th>\n",
       "    </tr>\n",
       "  </thead>\n",
       "  <tbody>\n",
       "    <tr>\n",
       "      <th>count</th>\n",
       "      <td>931.000000</td>\n",
       "    </tr>\n",
       "    <tr>\n",
       "      <th>mean</th>\n",
       "      <td>181857.902256</td>\n",
       "    </tr>\n",
       "    <tr>\n",
       "      <th>std</th>\n",
       "      <td>24320.362432</td>\n",
       "    </tr>\n",
       "    <tr>\n",
       "      <th>min</th>\n",
       "      <td>150010.000000</td>\n",
       "    </tr>\n",
       "    <tr>\n",
       "      <th>25%</th>\n",
       "      <td>165000.000000</td>\n",
       "    </tr>\n",
       "    <tr>\n",
       "      <th>50%</th>\n",
       "      <td>175000.000000</td>\n",
       "    </tr>\n",
       "    <tr>\n",
       "      <th>75%</th>\n",
       "      <td>190775.000000</td>\n",
       "    </tr>\n",
       "    <tr>\n",
       "      <th>max</th>\n",
       "      <td>420000.000000</td>\n",
       "    </tr>\n",
       "  </tbody>\n",
       "</table>\n",
       "</div>"
      ],
      "text/plain": [
       "         BASE SALARY\n",
       "count     931.000000\n",
       "mean   181857.902256\n",
       "std     24320.362432\n",
       "min    150010.000000\n",
       "25%    165000.000000\n",
       "50%    175000.000000\n",
       "75%    190775.000000\n",
       "max    420000.000000"
      ]
     },
     "execution_count": 168,
     "metadata": {},
     "output_type": "execute_result"
    }
   ],
   "source": [
    "df.describe()"
   ]
  },
  {
   "cell_type": "code",
   "execution_count": 172,
   "metadata": {},
   "outputs": [
    {
     "data": {
      "text/plain": [
       "147"
      ]
     },
     "execution_count": 172,
     "metadata": {},
     "output_type": "execute_result"
    }
   ],
   "source": [
    "len(df['EMPLOYER'].unique())"
   ]
  },
  {
   "cell_type": "code",
   "execution_count": 171,
   "metadata": {},
   "outputs": [
    {
     "name": "stdout",
     "output_type": "stream",
     "text": [
      "QUANTEDGE USA INC\n",
      "TOWER RESEARCH CAPITAL LLC\n",
      "GOTHAM ASSET MANAGEMENT LLC\n",
      "CITIGROUP GLOBAL MARKETS INC\n",
      "POINT72 ASSET MANAGEMENT LP\n",
      "BLOOMBERG LP\n",
      "TWO SIGMA INVESTMENTS LP\n",
      "CITADEL ENTERPRISE AMERICAS LLC\n",
      "DRW HOLDINGS LLC\n",
      "IEX GROUP INC\n",
      "CITADEL AMERICAS LLC\n",
      "D E SHAW & CO LP\n",
      "BOULDER HILL CAPITAL MANAGEMENT LP\n",
      "SQUAREPOINT OPS LLC\n",
      "SEVEN EIGHT CAPITAL LP\n",
      "GTS SECURITIES LLC\n",
      "JUMP OPERATIONS LLC\n",
      "BALYASNY ASSET MANAGEMENT LP\n",
      "TOKENS TRADING LLC\n",
      "ERGOTELES LLC\n",
      "DW PARTNERS LP\n",
      "HBK NEW YORK LLC\n",
      "RBC CAPITAL MARKETS LLC\n",
      "CITADEL SECURITIES AMERICAS LLC\n",
      "ELLIOTT MANAGEMENT CORPORATION\n",
      "BLUEMOUNTAIN CAPITAL MANAGEMENT LLC\n",
      "TUDOR INVESTMENT CORPORATION\n",
      "GRAHAM CAPITAL MANAGEMENT LP\n",
      "CITADEL LLC\n",
      "INSIGHT INVESTMENT\n",
      "AIG ASSET MANAGEMENT (US) LLC\n",
      "3RED PARTNERS LLC\n",
      "BLOOMBERG TRADEBOOK LLC\n",
      "THE VANGUARD GROUP\n",
      "HRT TECHNOLOGY LLC\n",
      "CITIBANK NA\n",
      "FACEBOOK INC\n",
      "TGS MANAGEMENT COMPANY LLC\n",
      "LATOUR TRADING LLC\n",
      "BOERBOEL LLC\n",
      "OLD MISSION CAPITAL LLC\n",
      "LAURION CAPITAL MANAGEMENT LP\n",
      "KCG AMERICAS LLC\n",
      "THE CLIMATE CORPORATION\n",
      "VATIC LABS OPERATIONS LLC\n",
      "IMC AMERICAS INC\n",
      "JANE STREET GROUP LLC\n",
      "HYPOTHECA CAPITAL LLC\n",
      "HOLOCENE ADVISORS LP\n",
      "FOREX CAPITAL MARKETS LLC\n",
      "THE OPTIONS GROUP INC\n",
      "MUNICH RE TRADING LLC\n",
      "MERGERMARKET (US) LTD\n",
      "IMPERATIVE EXECUTION INC\n",
      "CENTIVA CAPITAL LP\n",
      "ALPHADYNE ASSET MANAGEMENT LP\n",
      "QUEST PARTNERS LLC\n",
      "SG AMERICAS SECURITIES LLC\n",
      "BARCLAYS CAPITAL INC\n",
      "BARCLAYS RISK ANALYTICS AND INDEX SOLUTIONS LIMITED\n",
      "GENESIS GLOBAL TRADING INC\n",
      "NUMERAI LLC\n",
      "TWO HARBORS INVESTMENT CORP\n",
      "NEUTRON HOLDINGS INC\n",
      "ENGINEERS GATE MANAGER LP\n",
      "LUXOFT USA INC\n",
      "BGC TECHNOLOGY MARKETS LP\n",
      "GOOGLE INC\n",
      "GOOGLE LLC\n",
      "HSBC BANK USA NA\n",
      "UNIVERSITY OF WASHINGTON\n",
      "WILSHIRE ADVISORS LLC\n",
      "PACIFIC INVESTMENT MANAGEMENT COMPANY\n",
      "PALOMA PARTNERS MANAGEMENT COMPANY\n",
      "INVESCO GROUP SERVICES INC\n",
      "J GOLDMAN & CO LP\n",
      "IRIS SOFTWARE INC\n",
      "HAP CAPITAL ADVISORS LLC\n",
      "PINE RIVER CAPITAL MANAGEMENT LP\n",
      "INDUS CAPITAL PARTNERS LLC\n",
      "CYS INVESTMENTS INC\n",
      "GRANTHAM MAYO VAN OTTERLOO & CO LLC\n",
      "TWO SIGMA INVESTMENTS LLC\n",
      "ALPHADYNE ASSET MANAGEMENT LLC\n",
      "ASSURED GUARANTY US HOLDINGS INC\n",
      "SEGANTII CAPITAL MANAGEMENT (USA) LLC\n",
      "ONE RIVER ASSET MANAGEMENT LLC\n",
      "AUTONOMY AMERICAS LLC\n",
      "GRANTHAM MAYO VAN OTTERLOO AND COMPANY LLC\n",
      "LOOMIS SAYLES AND COMPANY LP\n",
      "QPULA LLC\n",
      "LORD ABBETT & CO\n",
      "HUTCHIN HILL CAPITAL LP\n",
      "FIVE RINGS LLC\n",
      "CLEAR STREET MANAGEMENT LLC\n",
      "COATUE MANAGEMENT LLC\n",
      "VERITION GROUP LLC\n",
      "STRATEGIC GLOBAL ADVISORS LLC\n",
      "QSEMBLE CAPITAL MANAGEMENT LP\n",
      "FIELD STREET CAPITAL MANAGEMENT LLC\n",
      "DRW TEXAS LLC\n",
      "JANUS MANAGEMENT HOLDINGS CORPORATION\n",
      "BOT LAB LP\n",
      "HEDGESERV CORPORATION\n",
      "APPLIED ACADEMICS LLC\n",
      "EXODUSPOINT CAPITAL MANAGEMENT LP\n",
      "GR TECH LLC\n",
      "THE FALCONWOOD CORPORATION\n",
      "GRESHAM INVESTMENT MANAGEMENT LLC\n",
      "IBG LLC\n",
      "CONTEXTLOGIC INC\n",
      "DE SHAW & CO LP\n",
      "NEW HOLLAND CAPITAL LLC\n",
      "VIRTU FINANCIAL OPERATING LLC\n",
      "T ROWE PRICE ASSOCIATES INC\n",
      "GSA CAPITAL PARTNERS (NEW YORK) LP\n",
      "SCIENTECH RESEARCH LLC\n",
      "CAPITAL TECHNOLOGY SOLUTIONS INC\n",
      "STEVENS CAPITAL MANAGEMENT LP\n",
      "TECH SQUARE TRADING LP\n",
      "NINE CHAPTERS CAPITAL MANAGEMENT LLC\n",
      "AMERICAN CENTURY INVESTMENT MANAGEMENT INC\n",
      "HC OPERATIONS LLC\n",
      "POINT72 LP\n",
      "FORA CAPITAL LLC\n",
      "AIGEN INVESTMENT MANAGEMENT LP\n",
      "CUBIST SYSTEMATIC STRATEGIES LLC\n",
      "CAPULA INVESTMENT US LP\n",
      "HSBC SECURITIES (USA) INC\n",
      "JACOBS LEVY EQUITY MANAGEMENT INC\n",
      "VALKYRIE TRADING LLC\n",
      "HUDSON RIVER TRADING LLC\n",
      "PROGRESS INVESTMENT MANAGEMENT COMPANY LLC\n",
      "WELLINGTON MANAGEMENT COMPANY LLP\n",
      "CHAINSCALE INC\n",
      "PACIFIC INVESTMENT MANAGEMENT COMPANY LLC\n",
      "HD CONSULTING SERVICE LLC\n",
      "MAZE MASTERS LLC\n",
      "POPULUS GROUP LLC\n",
      "ALTONOMY INC\n",
      "HOUZZ INC\n",
      "WEALTHFRONT INC\n",
      "BEACON PLATFORM INCORPORATED\n",
      "HSBC TECHNOLOGY & SERVICES (USA) INC\n",
      "BRACEBRIDGE CAPITAL LLC\n",
      "WELLS FARGO BANK NA\n",
      "MOTIF INVESTING INC\n"
     ]
    }
   ],
   "source": [
    "for _ in df['EMPLOYER'].unique(): print(_)"
   ]
  }
 ],
 "metadata": {
  "kernelspec": {
   "display_name": "Python 3",
   "language": "python",
   "name": "python3"
  },
  "language_info": {
   "codemirror_mode": {
    "name": "ipython",
    "version": 3
   },
   "file_extension": ".py",
   "mimetype": "text/x-python",
   "name": "python",
   "nbconvert_exporter": "python",
   "pygments_lexer": "ipython3",
   "version": "3.8.3"
  },
  "toc": {
   "base_numbering": 1,
   "nav_menu": {},
   "number_sections": true,
   "sideBar": true,
   "skip_h1_title": false,
   "title_cell": "Table of Contents",
   "title_sidebar": "Contents",
   "toc_cell": false,
   "toc_position": {},
   "toc_section_display": true,
   "toc_window_display": false
  }
 },
 "nbformat": 4,
 "nbformat_minor": 4
}
